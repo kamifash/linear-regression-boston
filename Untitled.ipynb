{
 "cells": [
  {
   "cell_type": "code",
   "execution_count": 1,
   "metadata": {},
   "outputs": [
    {
     "name": "stdout",
     "output_type": "stream",
     "text": [
      "5\n"
     ]
    }
   ],
   "source": [
    "heights = [189, 170, 189, 163, 183, 171, 185, 168, 173, 183, 173, 173, 175, 178, 183, 193, 178, 173, 174, 183, 183, 180, 168, 180, 170, 178, 182, 180, 183, 178, 182, 188, 175, 179, 183, 193, 182, 183, 177, 185, 188, 188, 182, 185, 191]\n",
    "import numpy as np\n",
    "heights_arr = np.array(heights)\n",
    "print((heights_arr > 188).sum())"
   ]
  },
  {
   "cell_type": "code",
   "execution_count": 4,
   "metadata": {
    "scrolled": true
   },
   "outputs": [
    {
     "data": {
      "text/plain": [
       "45"
      ]
     },
     "execution_count": 4,
     "metadata": {},
     "output_type": "execute_result"
    }
   ],
   "source": [
    "heights_arr.size\n",
    "# heights_arr.shape"
   ]
  },
  {
   "cell_type": "code",
   "execution_count": 12,
   "metadata": {
    "scrolled": false
   },
   "outputs": [
    {
     "data": {
      "text/plain": [
       "(90,)"
      ]
     },
     "execution_count": 12,
     "metadata": {},
     "output_type": "execute_result"
    }
   ],
   "source": [
    "ages = [57, 61, 57, 57, 58, 57, 61, 54, 68, 51, 49, 64, 50, 48, 65, 52, 56, 46, 54, 49, 51, 47, 55, 55, 54, 42, 51, 56, 55, 51, 54, 51, 60, 62, 43, 55, 56, 61, 52, 69, 64, 46, 54, 47, 70]\n",
    "heights_and_ages = heights + ages \n",
    "# convert a list to a numpy array\n",
    "heights_and_ages_arr = np.array(heights_and_ages)\n",
    "heights_and_ages_arr.shape"
   ]
  },
  {
   "cell_type": "code",
   "execution_count": 18,
   "metadata": {},
   "outputs": [
    {
     "data": {
      "text/plain": [
       "array([[189, 170, 189, 163, 183, 171, 185, 168, 173, 183, 173, 173, 175,\n",
       "        178, 183, 193, 178, 173, 174, 183, 183, 180, 168, 180, 170, 178,\n",
       "        182, 180, 183, 178, 182, 188, 175, 179, 183, 193, 182, 183, 177,\n",
       "        185, 188, 188, 182, 185, 191],\n",
       "       [ 57,  61,  57,  57,  58,  57,  61,  54,  68,  51,  49,  64,  50,\n",
       "         48,  65,  52,  56,  46,  54,  49,  51,  47,  55,  55,  54,  42,\n",
       "         51,  56,  55,  51,  54,  51,  60,  62,  43,  55,  56,  61,  52,\n",
       "         69,  64,  46,  54,  47,  70]])"
      ]
     },
     "execution_count": 18,
     "metadata": {},
     "output_type": "execute_result"
    }
   ],
   "source": [
    "heights_and_ages_arr.reshape((2,45))\n"
   ]
  },
  {
   "cell_type": "code",
   "execution_count": 19,
   "metadata": {},
   "outputs": [
    {
     "name": "stdout",
     "output_type": "stream",
     "text": [
      "[163  57]\n"
     ]
    }
   ],
   "source": [
    "print(heights_and_ages_arr[:, 3])"
   ]
  },
  {
   "cell_type": "code",
   "execution_count": 22,
   "metadata": {},
   "outputs": [
    {
     "data": {
      "text/plain": [
       "array([189, 170, 189])"
      ]
     },
     "execution_count": 22,
     "metadata": {},
     "output_type": "execute_result"
    }
   ],
   "source": [
    "heights_and_ages_arr[0, :3]"
   ]
  },
  {
   "cell_type": "code",
   "execution_count": 23,
   "metadata": {},
   "outputs": [
    {
     "data": {
      "text/plain": [
       "array([[189, 170, 189, 163, 183, 171, 185, 168, 173, 183, 173, 173, 175,\n",
       "        178, 183, 193, 178, 173, 174, 183, 183, 180, 168, 180, 170, 178,\n",
       "        182, 180, 183, 178, 182, 188, 175, 179, 183, 193, 182, 183, 177,\n",
       "        185, 188, 188, 180, 183, 190],\n",
       "       [ 57,  61,  57,  57,  58,  57,  61,  54,  68,  51,  49,  64,  50,\n",
       "         48,  65,  52,  56,  46,  54,  49,  51,  47,  55,  55,  54,  42,\n",
       "         51,  56,  55,  51,  54,  51,  60,  62,  43,  55,  56,  61,  52,\n",
       "         69,  64,  46,  54,  50,  69]])"
      ]
     },
     "execution_count": 23,
     "metadata": {},
     "output_type": "execute_result"
    }
   ],
   "source": [
    "new_record = np.array([[180, 183, 190], [54, 50, 69]])\n",
    "heights_and_ages_arr[:, 42:] = new_record\n",
    "heights_and_ages_arr"
   ]
  },
  {
   "cell_type": "code",
   "execution_count": 26,
   "metadata": {},
   "outputs": [
    {
     "data": {
      "text/plain": [
       "array([[189,  57],\n",
       "       [170,  61],\n",
       "       [189,  57]])"
      ]
     },
     "execution_count": 26,
     "metadata": {},
     "output_type": "execute_result"
    }
   ],
   "source": [
    "heights_arr = heights_arr.reshape((45,1))\n",
    "ages_arr = np.array(ages).reshape(-1,1)\n",
    "height_age_arr = np.hstack((heights_arr, ages_arr))\n",
    "height_age_arr.shape\n",
    "height_age_arr[:3,]"
   ]
  },
  {
   "cell_type": "code",
   "execution_count": null,
   "metadata": {},
   "outputs": [],
   "source": []
  }
 ],
 "metadata": {
  "kernelspec": {
   "display_name": "Python 3",
   "language": "python",
   "name": "python3"
  },
  "language_info": {
   "codemirror_mode": {
    "name": "ipython",
    "version": 3
   },
   "file_extension": ".py",
   "mimetype": "text/x-python",
   "name": "python",
   "nbconvert_exporter": "python",
   "pygments_lexer": "ipython3",
   "version": "3.7.6"
  }
 },
 "nbformat": 4,
 "nbformat_minor": 4
}
